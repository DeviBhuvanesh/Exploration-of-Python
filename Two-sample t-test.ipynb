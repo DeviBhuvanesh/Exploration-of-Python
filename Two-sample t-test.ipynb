{
 "cells": [
  {
   "cell_type": "code",
   "execution_count": 71,
   "id": "a3f7302b",
   "metadata": {},
   "outputs": [],
   "source": [
    "#Module 4 - R/Python Practice Assignment \n",
    "#Devi Somalinga Bhuvanesh\n",
    "#NUID - 001428225"
   ]
  },
  {
   "cell_type": "code",
   "execution_count": 78,
   "id": "751ab35d",
   "metadata": {},
   "outputs": [],
   "source": [
    "import pandas as pd\n",
    "from scipy import stats\n",
    "import numpy as np\n",
    "from math import sqrt\n",
    "from scipy.stats import norm\n",
    "import scipy.stats as stats"
   ]
  },
  {
   "cell_type": "code",
   "execution_count": 79,
   "id": "dc56af2c",
   "metadata": {},
   "outputs": [
    {
     "name": "stdout",
     "output_type": "stream",
     "text": [
      "    Sex  Bwt   Hwt\n",
      "0     F  2.0   7.0\n",
      "1     F  2.0   7.4\n",
      "2     F  2.0   9.5\n",
      "3     F  2.1   7.2\n",
      "4     F  2.1   7.3\n",
      "..   ..  ...   ...\n",
      "139   M  3.7  11.0\n",
      "140   M  3.8  14.8\n",
      "141   M  3.8  16.8\n",
      "142   M  3.9  14.4\n",
      "143   M  3.9  20.5\n",
      "\n",
      "[144 rows x 3 columns]\n"
     ]
    }
   ],
   "source": [
    "#Part 1 \n",
    "\n",
    "#Claim = MaleBwtmean = FemaleBwtmean - h0\n",
    "#Opp = MaleBwtmean != FemaleBwtmean - ha\n",
    "#Two tailed \n",
    "\n",
    "#Load the dataset and view the dataset loaded\n",
    "cats = pd.read_csv('/Users/devi/Documents/Devi/MPS Analytics/Probability and Statistics/Module 4/dataset-32337.csv')\n",
    "print(cats)"
   ]
  },
  {
   "cell_type": "code",
   "execution_count": 80,
   "id": "7a692a2e",
   "metadata": {},
   "outputs": [
    {
     "data": {
      "text/html": [
       "<div>\n",
       "<style scoped>\n",
       "    .dataframe tbody tr th:only-of-type {\n",
       "        vertical-align: middle;\n",
       "    }\n",
       "\n",
       "    .dataframe tbody tr th {\n",
       "        vertical-align: top;\n",
       "    }\n",
       "\n",
       "    .dataframe thead th {\n",
       "        text-align: right;\n",
       "    }\n",
       "</style>\n",
       "<table border=\"1\" class=\"dataframe\">\n",
       "  <thead>\n",
       "    <tr style=\"text-align: right;\">\n",
       "      <th></th>\n",
       "      <th>Bwt</th>\n",
       "      <th>Hwt</th>\n",
       "    </tr>\n",
       "  </thead>\n",
       "  <tbody>\n",
       "    <tr>\n",
       "      <th>count</th>\n",
       "      <td>97.000000</td>\n",
       "      <td>97.000000</td>\n",
       "    </tr>\n",
       "    <tr>\n",
       "      <th>mean</th>\n",
       "      <td>2.900000</td>\n",
       "      <td>11.322680</td>\n",
       "    </tr>\n",
       "    <tr>\n",
       "      <th>std</th>\n",
       "      <td>0.467484</td>\n",
       "      <td>2.542288</td>\n",
       "    </tr>\n",
       "    <tr>\n",
       "      <th>min</th>\n",
       "      <td>2.000000</td>\n",
       "      <td>6.500000</td>\n",
       "    </tr>\n",
       "    <tr>\n",
       "      <th>25%</th>\n",
       "      <td>2.500000</td>\n",
       "      <td>9.400000</td>\n",
       "    </tr>\n",
       "    <tr>\n",
       "      <th>50%</th>\n",
       "      <td>2.900000</td>\n",
       "      <td>11.400000</td>\n",
       "    </tr>\n",
       "    <tr>\n",
       "      <th>75%</th>\n",
       "      <td>3.200000</td>\n",
       "      <td>12.800000</td>\n",
       "    </tr>\n",
       "    <tr>\n",
       "      <th>max</th>\n",
       "      <td>3.900000</td>\n",
       "      <td>20.500000</td>\n",
       "    </tr>\n",
       "  </tbody>\n",
       "</table>\n",
       "</div>"
      ],
      "text/plain": [
       "             Bwt        Hwt\n",
       "count  97.000000  97.000000\n",
       "mean    2.900000  11.322680\n",
       "std     0.467484   2.542288\n",
       "min     2.000000   6.500000\n",
       "25%     2.500000   9.400000\n",
       "50%     2.900000  11.400000\n",
       "75%     3.200000  12.800000\n",
       "max     3.900000  20.500000"
      ]
     },
     "execution_count": 80,
     "metadata": {},
     "output_type": "execute_result"
    }
   ],
   "source": [
    "#Segregate male and female cats details from the database\n",
    "\n",
    "#List Male\n",
    "male = cats[cats[\"Sex\"] ==\"M\"]\n",
    "#print(male)\n",
    "male.describe()"
   ]
  },
  {
   "cell_type": "code",
   "execution_count": 81,
   "id": "5f4f4221",
   "metadata": {},
   "outputs": [
    {
     "data": {
      "text/html": [
       "<div>\n",
       "<style scoped>\n",
       "    .dataframe tbody tr th:only-of-type {\n",
       "        vertical-align: middle;\n",
       "    }\n",
       "\n",
       "    .dataframe tbody tr th {\n",
       "        vertical-align: top;\n",
       "    }\n",
       "\n",
       "    .dataframe thead th {\n",
       "        text-align: right;\n",
       "    }\n",
       "</style>\n",
       "<table border=\"1\" class=\"dataframe\">\n",
       "  <thead>\n",
       "    <tr style=\"text-align: right;\">\n",
       "      <th></th>\n",
       "      <th>Bwt</th>\n",
       "      <th>Hwt</th>\n",
       "    </tr>\n",
       "  </thead>\n",
       "  <tbody>\n",
       "    <tr>\n",
       "      <th>count</th>\n",
       "      <td>47.000000</td>\n",
       "      <td>47.000000</td>\n",
       "    </tr>\n",
       "    <tr>\n",
       "      <th>mean</th>\n",
       "      <td>2.359574</td>\n",
       "      <td>9.202128</td>\n",
       "    </tr>\n",
       "    <tr>\n",
       "      <th>std</th>\n",
       "      <td>0.273988</td>\n",
       "      <td>1.357666</td>\n",
       "    </tr>\n",
       "    <tr>\n",
       "      <th>min</th>\n",
       "      <td>2.000000</td>\n",
       "      <td>6.300000</td>\n",
       "    </tr>\n",
       "    <tr>\n",
       "      <th>25%</th>\n",
       "      <td>2.150000</td>\n",
       "      <td>8.350000</td>\n",
       "    </tr>\n",
       "    <tr>\n",
       "      <th>50%</th>\n",
       "      <td>2.300000</td>\n",
       "      <td>9.100000</td>\n",
       "    </tr>\n",
       "    <tr>\n",
       "      <th>75%</th>\n",
       "      <td>2.500000</td>\n",
       "      <td>10.100000</td>\n",
       "    </tr>\n",
       "    <tr>\n",
       "      <th>max</th>\n",
       "      <td>3.000000</td>\n",
       "      <td>13.000000</td>\n",
       "    </tr>\n",
       "  </tbody>\n",
       "</table>\n",
       "</div>"
      ],
      "text/plain": [
       "             Bwt        Hwt\n",
       "count  47.000000  47.000000\n",
       "mean    2.359574   9.202128\n",
       "std     0.273988   1.357666\n",
       "min     2.000000   6.300000\n",
       "25%     2.150000   8.350000\n",
       "50%     2.300000   9.100000\n",
       "75%     2.500000  10.100000\n",
       "max     3.000000  13.000000"
      ]
     },
     "execution_count": 81,
     "metadata": {},
     "output_type": "execute_result"
    }
   ],
   "source": [
    "#List Female\n",
    "female = cats[cats[\"Sex\"] ==\"F\"]\n",
    "#print(female)\n",
    "female.describe()"
   ]
  },
  {
   "cell_type": "code",
   "execution_count": 82,
   "id": "1d8999ad",
   "metadata": {},
   "outputs": [
    {
     "name": "stdout",
     "output_type": "stream",
     "text": [
      "Standard Error 0.06109\n",
      "t_stat is 0.55000\n",
      "p_value: 0.58498\n",
      "We fail to reject the null hypothesis that male and female cat bodyweights are equal.\n",
      "We fail to reject the null hypothesis that male and female cat bodyweights are equal.\n"
     ]
    }
   ],
   "source": [
    "#Method 1 - Two-sample t-test with unequal variance as mentioned in the question\n",
    "\n",
    "x1=2.90\n",
    "x2=2.35\n",
    "\n",
    "s1=0.46\n",
    "s2=0.27\n",
    "\n",
    "n1=97\n",
    "n2=47\n",
    "\n",
    "#Since variance are not equal as stated, the smaller sample size is 47. \n",
    "df= n2-1\n",
    "\n",
    "#Two-sample t-test is used in this study as the population standard deviation is not known and variance is unequal\n",
    "\n",
    "SE=np.sqrt((s1*s1/n1)+(s2*s2/n2))\n",
    "print(\"Standard Error %.5f\"%SE)\n",
    "\n",
    "t_stat = (x1-x2)-0/SE\n",
    "print(\"t_stat is %.5f\"%t_stat)\n",
    "\n",
    "#find p-value for two-tailed test\n",
    "p_value = scipy.stats.t.sf(abs(t_stat),df=df)*2\n",
    "print('p_value: %0.5f' % (p_value))\n",
    "\n",
    "#When significance level is 0.05\n",
    "if p_value < 0.05:\n",
    "    print(\"We can reject the null hypothesis that male and female cat bodyweights are equal.\")\n",
    "else:\n",
    "    print(\"We fail to reject the null hypothesis that male and female cat bodyweights are equal.\")\n",
    "    \n",
    "#When significance level is 0.1\n",
    "if p_value < 0.1:\n",
    "    print(\"We can reject the null hypothesis that male and female cat bodyweights are equal.\")\n",
    "else:\n",
    "    print(\"We fail to reject the null hypothesis that male and female cat bodyweights are equal.\")\n",
    "   "
   ]
  },
  {
   "cell_type": "code",
   "execution_count": 83,
   "id": "7b8d12d6",
   "metadata": {},
   "outputs": [
    {
     "name": "stdout",
     "output_type": "stream",
     "text": [
      "Standard Error 0.06109\n",
      "Z_Stat is 0.55000\n",
      "P value is 0.58232\n",
      "We fail to reject the null hypothesis that male and female cat bodyweights are equal.\n",
      "We fail to reject the null hypothesis that male and female cat bodyweights are equal.\n"
     ]
    }
   ],
   "source": [
    "#Method 2 - Using Z Test - We can use Z-test as n>30 in both the sample\n",
    "x1=2.90\n",
    "x2=2.35\n",
    "\n",
    "s1=0.46\n",
    "s2=0.27\n",
    "\n",
    "n1=97\n",
    "n2=47\n",
    "\n",
    "#Z test is used here as the sample size is more than 30\n",
    "\n",
    "SE=np.sqrt((s1*s1/n1)+(s2*s2/n2))\n",
    "print(\"Standard Error %.5f\"%SE)\n",
    "\n",
    "z_stat = (x1-x2)-0/SE\n",
    "print(\"Z_Stat is %.5f\"%z_stat)\n",
    "\n",
    "#find p-value for two tailed\n",
    "p_value = scipy.stats.norm.sf(abs(z_stat))*2\n",
    "print(\"P value is %.5f\"%p_value)\n",
    "\n",
    "#When significance level is 0.05\n",
    "if p_value < 0.05:\n",
    "    print(\"We can reject the null hypothesis that male and female cat bodyweights are equal.\")\n",
    "else:\n",
    "    print(\"We fail to reject the null hypothesis that male and female cat bodyweights are equal.\")\n",
    "    \n",
    "#When significance level is 0.1\n",
    "if p_value < 0.1:\n",
    "    print(\"We can reject the null hypothesis that male and female cat bodyweights are equal.\")\n",
    "else:\n",
    "    print(\"We fail to reject the null hypothesis that male and female cat bodyweights are equal.\")"
   ]
  },
  {
   "cell_type": "code",
   "execution_count": 87,
   "id": "23f1cce4",
   "metadata": {},
   "outputs": [],
   "source": [
    "#Conclusion \n",
    "#In question above, two methods were adopted, i.e., two sample T-test with unequal variance and Z test.\n",
    "#As stated in the question, two-sample \"t-test\" was used in this study as the population standard deviation is not known and variance is unequal\n",
    "#The second method \"z-test\" was used here as the sample size is more than 30. \n",
    "\n",
    "#While comparing the results in both the tests, the t_statistic and z_statistic values are same which indicates that the sample size is large enough to assume the population standard deviation is known or can be estimated, and the standard normal distribution can be used to make statistical inferences.\n",
    "#Since the sample size is greater than 30, the z and t distributions are essentially the same. \n",
    "#Also, given the significance level at 95% and 90%, it indicates that we do not have sufficient evidence to reject the claim that male and female cat bodyweights are equal. "
   ]
  },
  {
   "cell_type": "code",
   "execution_count": 88,
   "id": "a1fff6ba",
   "metadata": {},
   "outputs": [
    {
     "data": {
      "text/plain": [
       "Ttest_relResult(statistic=-1.948097934869753, pvalue=0.08322051865826395)"
      ]
     },
     "execution_count": 88,
     "metadata": {},
     "output_type": "execute_result"
    }
   ],
   "source": [
    "#Part 2\n",
    "#Claim - after_meditation_mean > before_meditation_mean - ha\n",
    "#Opposite - after_meditation_mean <= before_meditation_mean - h0\n",
    "\n",
    "#H0: The mean sleeping quality score after the meditation workshop is lesser than or equal to the mean sleeping quality score before the meditation workshop.\n",
    "#HA: The mean sleeping quality score after the meditation workshop is higher than the mean sleeping quality score before the meditation workshop.\n",
    "#Right tail\n",
    "\n",
    "before = [4.6, 7.8, 9.1, 5.6, 6.9, 8.5, 5.3, 7.1, 3.2, 4.4]\n",
    "after = [6.6, 7.7, 9.0, 6.2, 7.8, 8.3, 5.9, 6.5, 5.8, 4.9]\n",
    "\n",
    "#Paired sample t-test is suitable for the study as the same 10 students are used for the study before and after the meditation workshop. Hence, they are dependent samples.\n",
    "stats.ttest_rel(before, after)"
   ]
  },
  {
   "cell_type": "code",
   "execution_count": 89,
   "id": "8f559476",
   "metadata": {},
   "outputs": [],
   "source": [
    "#Situation 1 - when Alpha = 0.05\n",
    "#Since the p-value (0.0832) is greater than 0.05, we fail to reject the null hypothesis. \n",
    "#We do not have sufficient evidence to say that the mean sleeping quality score after the meditation workshop is lesser than or equal to the mean sleeping quality score before the meditation workshop."
   ]
  },
  {
   "cell_type": "code",
   "execution_count": 90,
   "id": "0de8d759",
   "metadata": {},
   "outputs": [],
   "source": [
    "#Situation 2 - when Alpha = 0.1\n",
    "#Since the p-value (0.0832) is less than 0.1, we reject the null hypothesis. \n",
    "#We have sufficient evidence to say that the mean sleeping quality score after the meditation workshop is higher than the mean sleeping quality score before the meditation workshop."
   ]
  },
  {
   "cell_type": "code",
   "execution_count": 91,
   "id": "ef2a8b18",
   "metadata": {},
   "outputs": [],
   "source": [
    "#Conclusion \n",
    "#Since the same set of 10 students were used in the study, i.e., by comparing the sleeping quality before and after providing the meditation workshop, a paired sample t-test was used and is a right tailed. \n",
    "#Through the analysis, it is evident that at 90% confidence level, we are sure that the sleeping quality improves through the meditation workshop while at 95% confidence level, we do not have enough evidence to prove the same. \n",
    "#Since the p_value is 0.0832, the result differs for signicance level at 0.05 and 0.1. \n",
    "#The choice of significance level influences the decision-making process in hypothesis testing, and it is important to select an appropriate level of alpha based on the research question and the consequences of making a Type I or Type II error."
   ]
  }
 ],
 "metadata": {
  "kernelspec": {
   "display_name": "Python 3 (ipykernel)",
   "language": "python",
   "name": "python3"
  },
  "language_info": {
   "codemirror_mode": {
    "name": "ipython",
    "version": 3
   },
   "file_extension": ".py",
   "mimetype": "text/x-python",
   "name": "python",
   "nbconvert_exporter": "python",
   "pygments_lexer": "ipython3",
   "version": "3.9.13"
  }
 },
 "nbformat": 4,
 "nbformat_minor": 5
}
