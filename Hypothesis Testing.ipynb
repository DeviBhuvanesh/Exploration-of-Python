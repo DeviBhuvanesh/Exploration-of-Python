{
 "cells": [
  {
   "cell_type": "markdown",
   "id": "91af184e",
   "metadata": {},
   "source": [
    "### 1. Hypothesis Testing of Proportion"
   ]
  },
  {
   "cell_type": "code",
   "execution_count": 3,
   "id": "52c023dc",
   "metadata": {},
   "outputs": [],
   "source": [
    "from statsmodels.stats.proportion import proportions_ztest"
   ]
  },
  {
   "cell_type": "markdown",
   "id": "8180e7b5",
   "metadata": {},
   "source": [
    "#### Proportion\n",
    "\n",
    "A sample of 300 companies found that 183 of CEO were male. Test the claim that most CEOs are male. use alpa = 0.05 "
   ]
  },
  {
   "cell_type": "code",
   "execution_count": 4,
   "id": "b5717017",
   "metadata": {},
   "outputs": [],
   "source": [
    "# We can use stats model from python to do the test\n",
    "# https://www.statsmodels.org/dev/generated/statsmodels.stats.proportion.proportions_ztest.html\n",
    "\n",
    "\n",
    "# can we assume anything from our sample\n",
    "significance = 0.05\n",
    "\n",
    "# our sample - 82% are good\n",
    "sample_success = 183\n",
    "sample_size = 300\n",
    "\n",
    "# our Ho is  greater than equal to 50%\n",
    "null_hypothesis = 0.50"
   ]
  },
  {
   "cell_type": "code",
   "execution_count": 5,
   "id": "40e7d715",
   "metadata": {},
   "outputs": [],
   "source": [
    "stat, p_value = proportions_ztest(count=sample_success, nobs=sample_size, value=null_hypothesis, alternative='larger')"
   ]
  },
  {
   "cell_type": "code",
   "execution_count": 6,
   "id": "9bab2eba",
   "metadata": {},
   "outputs": [
    {
     "name": "stdout",
     "output_type": "stream",
     "text": [
      "z_stat: 3.906, p_value: 0.00005\n",
      "Reject the null hypothesis - suggest the alternative hypothesis is true\n"
     ]
    }
   ],
   "source": [
    "\n",
    "# report\n",
    "print('z_stat: %0.3f, p_value: %0.5f' % (stat, p_value))\n",
    "\n",
    "if p_value > significance:\n",
    "    print(\"Fail to reject the null hypothesis - we have nothing else to say\")\n",
    "else:\n",
    "    print(\"Reject the null hypothesis - suggest the alternative hypothesis is true\")"
   ]
  },
  {
   "cell_type": "markdown",
   "id": "e7776609",
   "metadata": {},
   "source": [
    "### 2. Hypothesis testing of mean"
   ]
  },
  {
   "cell_type": "markdown",
   "id": "45cab7e3",
   "metadata": {},
   "source": [
    "#### You sample 465 M&Ms, the sample had mean of 0.8635. The population stdev is 0.0565. Test the claim that mean weight is greater than 0.8535. Significance level = 0.01 "
   ]
  },
  {
   "cell_type": "code",
   "execution_count": 7,
   "id": "975b890e",
   "metadata": {},
   "outputs": [
    {
     "name": "stdout",
     "output_type": "stream",
     "text": [
      "3.8166121509465203\n"
     ]
    }
   ],
   "source": [
    "import math \n",
    "x_mean = 0.8635\n",
    "mu = 0.8535\n",
    "sigma = 0.0565\n",
    "n = 465\n",
    "\n",
    "z_stat = (x_mean - mu)/(sigma/math.sqrt(n))\n",
    "\n",
    "print(z_stat)"
   ]
  },
  {
   "cell_type": "code",
   "execution_count": 8,
   "id": "abae517c",
   "metadata": {},
   "outputs": [
    {
     "data": {
      "text/plain": [
       "-2.3263478740408408"
      ]
     },
     "execution_count": 8,
     "metadata": {},
     "output_type": "execute_result"
    }
   ],
   "source": [
    "import scipy.stats\n",
    "\n",
    "alpha = 0.01\n",
    "#find Z critical value\n",
    "scipy.stats.norm.ppf(alpha)"
   ]
  },
  {
   "cell_type": "code",
   "execution_count": 9,
   "id": "9c1ed7fb",
   "metadata": {},
   "outputs": [
    {
     "name": "stdout",
     "output_type": "stream",
     "text": [
      "p_value: 0.00007\n",
      "Reject the null hypothesis - suggest the alternative hypothesis is true\n"
     ]
    }
   ],
   "source": [
    "#find p-value\n",
    "p_value = scipy.stats.norm.sf(abs(z_stat))\n",
    "\n",
    "print('p_value: %0.5f' % (p_value))\n",
    "\n",
    "if p_value > alpha:\n",
    "    print(\"Fail to reject the null hypothesis - we have nothing else to say\")\n",
    "else:\n",
    "    print(\"Reject the null hypothesis - suggest the alternative hypothesis is true\")"
   ]
  },
  {
   "cell_type": "markdown",
   "id": "2e0ad541",
   "metadata": {},
   "source": [
    "### Practice\n",
    "\n",
    "The National Institute of Diabetes and Digestive and Kidney Diseases reports that the average cost of bariatric (weight loss) surgery is about \\\\$22,500. You think this information is incorrect. You randomly select 30 bariatric surgery patients and find that the average cost for their surgeries is \\\\$21,545, with a standard deviation of \\\\$3015. Is there enough evidence to support your claim at a = 0.05? Use a P-value.\n"
   ]
  },
  {
   "cell_type": "code",
   "execution_count": 28,
   "id": "08d63f14",
   "metadata": {},
   "outputs": [
    {
     "name": "stdout",
     "output_type": "stream",
     "text": [
      "-1.734908930074407\n"
     ]
    },
    {
     "data": {
      "text/plain": [
       "1.959963984540054"
      ]
     },
     "execution_count": 28,
     "metadata": {},
     "output_type": "execute_result"
    }
   ],
   "source": [
    "## Z Test, Two tail\n",
    "\n",
    "mu = 22500\n",
    "n = 30\n",
    "x_mean = 21545\n",
    "sigma = 3015 \n",
    "z_stat = (x_mean - mu)/(sigma/math.sqrt(n))\n",
    "print(z_stat)\n",
    "\n",
    "alpha = 0.05\n",
    "#find Z critical value for two tail\n",
    "scipy.stats.norm.ppf(1-0.05/2)\n"
   ]
  },
  {
   "cell_type": "code",
   "execution_count": 31,
   "id": "4470e160",
   "metadata": {},
   "outputs": [
    {
     "name": "stdout",
     "output_type": "stream",
     "text": [
      "p_value: 0.08276\n",
      "Fail to reject the null hypothesis - we have nothing else to say\n"
     ]
    }
   ],
   "source": [
    "#find p-value for Z test, two tail\n",
    "#https://www.geeksforgeeks.org/how-to-find-a-p-value-from-a-z-score-in-python/\n",
    "\n",
    "p_value = scipy.stats.norm.sf(abs(z_stat))*2\n",
    "\n",
    "print('p_value: %0.5f' % (p_value))\n",
    "\n",
    "if p_value > alpha:\n",
    "    print(\"Fail to reject the null hypothesis - we have nothing else to say\")\n",
    "else:\n",
    "    print(\"Reject the null hypothesis - suggest the alternative hypothesis is true\")"
   ]
  },
  {
   "cell_type": "markdown",
   "id": "23720ed1",
   "metadata": {},
   "source": [
    "The U.S. Department of Agriculture claims that the mean cost of raising a child from birth to age 2 by husband-wife families in the United States is \\\\$13,120. A random sample of 500 children (age 2) has a mean cost of \\\\$12,925  with a standard deviation of \\\\$1745. At a = 0.10, is there enough evidence to reject the claim? "
   ]
  },
  {
   "cell_type": "code",
   "execution_count": 35,
   "id": "ebab6781",
   "metadata": {},
   "outputs": [
    {
     "name": "stdout",
     "output_type": "stream",
     "text": [
      "-2.4987579118192493\n"
     ]
    },
    {
     "data": {
      "text/plain": [
       "1.6448536269514722"
      ]
     },
     "execution_count": 35,
     "metadata": {},
     "output_type": "execute_result"
    }
   ],
   "source": [
    "## Z Test, Two Tail\n",
    "\n",
    "mu = 13120\n",
    "n = 500\n",
    "x_mean = 12925\n",
    "sigma = 1745\n",
    "z_stat = (x_mean - mu)/(sigma/math.sqrt(n))\n",
    "print(z_stat)\n",
    "\n",
    "alpha = 0.10 \n",
    "#find Z critical value for two tail\n",
    "scipy.stats.norm.ppf(1-0.10/2)\n"
   ]
  },
  {
   "cell_type": "code",
   "execution_count": 37,
   "id": "10733f72",
   "metadata": {},
   "outputs": [
    {
     "name": "stdout",
     "output_type": "stream",
     "text": [
      "p_value: 0.01246\n",
      "Reject the null hypothesis - suggest the alternative hypothesis is true\n"
     ]
    }
   ],
   "source": [
    "#find p-value for z test, two tail\n",
    "p_value = scipy.stats.norm.sf(abs(z_stat))*2\n",
    "\n",
    "print('p_value: %0.5f' % (p_value))\n",
    "\n",
    "if p_value > alpha:\n",
    "    print(\"Fail to reject the null hypothesis - we have nothing else to say\")\n",
    "else:\n",
    "    print(\"Reject the null hypothesis - suggest the alternative hypothesis is true\")"
   ]
  },
  {
   "cell_type": "markdown",
   "id": "b6b3201e",
   "metadata": {},
   "source": [
    "A used car dealer says that the mean price of a 2008 Honda CR-V is at least \\\\$20,500. You suspect this claim is incorrect and find that a random sample of 14 similar vehicles has a mean price of \\\\$19,850 and a standard deviation of \\\\$1084. Is there enough evidence to reject the dealer’s claim at $a = 0.05?$ Assume the population is normally distributed."
   ]
  },
  {
   "cell_type": "code",
   "execution_count": 40,
   "id": "11e5ef99",
   "metadata": {},
   "outputs": [
    {
     "name": "stdout",
     "output_type": "stream",
     "text": [
      "-2.2436137466817914\n"
     ]
    },
    {
     "data": {
      "text/plain": [
       "-1.7709333959867992"
      ]
     },
     "execution_count": 40,
     "metadata": {},
     "output_type": "execute_result"
    }
   ],
   "source": [
    "## T-test, Left tail\n",
    "\n",
    "mu = 20500\n",
    "n = 14\n",
    "x_mean = 19850\n",
    "sigma = 1084\n",
    "t_stat = (x_mean - mu)/(sigma/math.sqrt(n))\n",
    "print(t_stat)\n",
    "\n",
    "alpha = 0.05 \n",
    "df=n-1\n",
    "#find t critical value for left tail\n",
    "scipy.stats.t.ppf(q=0.05,df=13)\n"
   ]
  },
  {
   "cell_type": "code",
   "execution_count": 41,
   "id": "ce375f10",
   "metadata": {},
   "outputs": [
    {
     "name": "stdout",
     "output_type": "stream",
     "text": [
      "p_value: 0.02146\n",
      "Reject the null hypothesis - suggest the alternative hypothesis is true\n"
     ]
    }
   ],
   "source": [
    "#find p-value for t-test, left tail\n",
    "#https://www.geeksforgeeks.org/how-to-find-a-p-value-from-a-t-score-in-python/\n",
    "\n",
    "p_value = scipy.stats.t.sf(abs(-t_stat), df=13)\n",
    "\n",
    "print('p_value: %0.5f' % (p_value))\n",
    "\n",
    "if p_value > alpha:\n",
    "    print(\"Fail to reject the null hypothesis - we have nothing else to say\")\n",
    "else:\n",
    "    print(\"Reject the null hypothesis - suggest the alternative hypothesis is true\")"
   ]
  }
 ],
 "metadata": {
  "kernelspec": {
   "display_name": "Python 3 (ipykernel)",
   "language": "python",
   "name": "python3"
  },
  "language_info": {
   "codemirror_mode": {
    "name": "ipython",
    "version": 3
   },
   "file_extension": ".py",
   "mimetype": "text/x-python",
   "name": "python",
   "nbconvert_exporter": "python",
   "pygments_lexer": "ipython3",
   "version": "3.9.13"
  }
 },
 "nbformat": 4,
 "nbformat_minor": 5
}
