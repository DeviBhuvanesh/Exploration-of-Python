{
 "cells": [
  {
   "cell_type": "markdown",
   "id": "06e7a6d8",
   "metadata": {},
   "source": [
    "## Binomial "
   ]
  },
  {
   "cell_type": "markdown",
   "id": "521844c8",
   "metadata": {},
   "source": [
    "#### Ex1: Microfracture knee surgery has a 75% chance of success on patients with degenerative knees. The surgery is performed on three patients. Find the probability of the surgery being successful on exactly two patients. "
   ]
  },
  {
   "cell_type": "code",
   "execution_count": 2,
   "id": "6f6cace0",
   "metadata": {},
   "outputs": [
    {
     "data": {
      "text/plain": [
       "0.42187499999999994"
      ]
     },
     "execution_count": 2,
     "metadata": {},
     "output_type": "execute_result"
    }
   ],
   "source": [
    "from scipy.stats import binom\n",
    "\n",
    "#calculate binomial probability\n",
    "binom.pmf(k=2, n=3, p=3/4)"
   ]
  },
  {
   "cell_type": "markdown",
   "id": "f713d813",
   "metadata": {},
   "source": [
    "#### Ex2: The results of a recent survey indicate that 67% of U.S. adults consider air conditioning a necessity. If you randomly select 100 adults, what is the probability that exactly 75 adults consider air conditioning a necessity? "
   ]
  },
  {
   "cell_type": "code",
   "execution_count": 3,
   "id": "695667a1",
   "metadata": {},
   "outputs": [
    {
     "data": {
      "text/plain": [
       "0.020100411631154308"
      ]
     },
     "execution_count": 3,
     "metadata": {},
     "output_type": "execute_result"
    }
   ],
   "source": [
    "#calculate binomial probability\n",
    "\n",
    "#n = 100, p = 0.67, x = 75 \n",
    "binom.pmf(k=75, n=100, p=0.67)"
   ]
  },
  {
   "cell_type": "markdown",
   "id": "b0b01f6a",
   "metadata": {},
   "source": [
    "### Example: Ice Creame\n",
    "\n",
    "It is known that 70% of individuals like a certain ice-cream flavor. If 10 individuals are randomly selected, what is the probability that between 4 and 6 of them like that ice-creame flavor?"
   ]
  },
  {
   "cell_type": "code",
   "execution_count": 3,
   "id": "8dc7495b",
   "metadata": {},
   "outputs": [
    {
     "data": {
      "text/plain": [
       "0.3030402942"
      ]
     },
     "execution_count": 3,
     "metadata": {},
     "output_type": "execute_result"
    }
   ],
   "source": [
    "\n",
    "\n",
    "#calculate binomial probability\n",
    "binom.cdf(k=6, n=10, p=0.7) - binom.cdf(k=4, n=10, p=0.7)\n"
   ]
  },
  {
   "cell_type": "markdown",
   "id": "e8c60ca9",
   "metadata": {},
   "source": [
    "## Normal Distribution "
   ]
  },
  {
   "cell_type": "code",
   "execution_count": 5,
   "id": "e247b3b9",
   "metadata": {},
   "outputs": [],
   "source": [
    "import scipy.stats as st\n"
   ]
  },
  {
   "cell_type": "code",
   "execution_count": 6,
   "id": "e81feb71",
   "metadata": {},
   "outputs": [
    {
     "data": {
      "text/plain": [
       "0.8749280643628496"
      ]
     },
     "execution_count": 6,
     "metadata": {},
     "output_type": "execute_result"
    }
   ],
   "source": [
    "\n",
    "# Find the cumulative area that corresponds to a z-score of 1.15.\n",
    "st.norm.cdf(1.15)"
   ]
  },
  {
   "cell_type": "code",
   "execution_count": 7,
   "id": "318bdf9e",
   "metadata": {},
   "outputs": [
    {
     "data": {
      "text/plain": [
       "0.40516512830220414"
      ]
     },
     "execution_count": 7,
     "metadata": {},
     "output_type": "execute_result"
    }
   ],
   "source": [
    "\n",
    "# Find the cumulative area that corresponds to a z-score of -0.24.\n",
    "st.norm.cdf(-0.24)"
   ]
  },
  {
   "cell_type": "code",
   "execution_count": 8,
   "id": "d16571cc",
   "metadata": {},
   "outputs": [
    {
     "data": {
      "text/plain": [
       "0.1445722996639096"
      ]
     },
     "execution_count": 8,
     "metadata": {},
     "output_type": "execute_result"
    }
   ],
   "source": [
    "# Find the area under the standard normal curve to the right of z = 1.06.\n",
    " # Your code here\n",
    "    \n",
    "1-st.norm.cdf(1.06)"
   ]
  },
  {
   "cell_type": "code",
   "execution_count": 14,
   "id": "24b370d9",
   "metadata": {},
   "outputs": [],
   "source": [
    "#Find the area under the standard normal curve between z = -1.5 and z = 1.25."
   ]
  },
  {
   "cell_type": "code",
   "execution_count": 15,
   "id": "8d3c306a",
   "metadata": {},
   "outputs": [
    {
     "data": {
      "text/plain": [
       "0.8275430250642866"
      ]
     },
     "execution_count": 15,
     "metadata": {},
     "output_type": "execute_result"
    }
   ],
   "source": [
    "st.norm.cdf(1.25) - st.norm.cdf(-1.5)"
   ]
  },
  {
   "cell_type": "markdown",
   "id": "93c641bf",
   "metadata": {},
   "source": [
    "### Ex: Height \n",
    "\n",
    "Suppose we have data of the heights of adults in a town and the data follows a normal distribution, we have a sufficient sample size with mean equals 5.3 and the standard deviation is 1. If we were asked to pick one person randomly from this distribution, then what is the probability that the height of the person will be smaller than 4.5 ft. ?"
   ]
  },
  {
   "cell_type": "code",
   "execution_count": 10,
   "id": "33c48d6b",
   "metadata": {},
   "outputs": [],
   "source": [
    "from scipy.stats import norm\n",
    "import numpy as np\n",
    "# Creating the distribution\n",
    "data = np.arange(1,10,0.01)\n",
    "#print(data)\n",
    "pdf = norm.pdf(data , loc = 5.3 , scale = 1)"
   ]
  },
  {
   "cell_type": "code",
   "execution_count": 17,
   "id": "a6d69150",
   "metadata": {},
   "outputs": [
    {
     "data": {
      "text/plain": [
       "0.21185539858339675"
      ]
     },
     "execution_count": 17,
     "metadata": {},
     "output_type": "execute_result"
    }
   ],
   "source": [
    "norm(loc = 5.3 , scale = 1).cdf(4.5)"
   ]
  },
  {
   "cell_type": "markdown",
   "id": "38f3953d",
   "metadata": {},
   "source": [
    "### Ex: Cellphone\n",
    "\n",
    "A survey indicates that people use their cellular phones an average of 1.5 years before buying a new one. The standard deviation is 0.25 year. A cellular phone user is selected at random. Find the probability that the user will use their current phone for less than 1 year before buying a new one. Assume that the variable x is normally distributed."
   ]
  },
  {
   "cell_type": "code",
   "execution_count": 18,
   "id": "84662ec4",
   "metadata": {},
   "outputs": [
    {
     "data": {
      "text/plain": [
       "0.022750131948179195"
      ]
     },
     "execution_count": 18,
     "metadata": {},
     "output_type": "execute_result"
    }
   ],
   "source": [
    "norm(loc = 1.5 , scale = 0.25).cdf(1)"
   ]
  },
  {
   "cell_type": "markdown",
   "id": "fcd83adb",
   "metadata": {},
   "source": [
    "### Ex: Speed \n",
    "\n",
    "The average speed of vehicles traveling on a stretch of highway is 67 miles per hour with a standard deviation of 3.5 miles per hour. A vehicle is selected at random. What is the probability that it is violating the 70 mile per hour speed limit? Assume the speeds are normally distributed. \n",
    "\n",
    "* Find the z-score that corresponds to 70 miles per hour.\n",
    "* Find the area to the right of that z-score.\n",
    "* Interpret the results."
   ]
  },
  {
   "cell_type": "code",
   "execution_count": 15,
   "id": "2d319fec",
   "metadata": {},
   "outputs": [
    {
     "name": "stdout",
     "output_type": "stream",
     "text": [
      "0.8571428571428571\n"
     ]
    }
   ],
   "source": [
    "x = 70 \n",
    "mu = 67\n",
    "sd = 3.5\n",
    "z = (x-mu)/sd\n",
    "\n",
    "print(z)"
   ]
  },
  {
   "cell_type": "code",
   "execution_count": 19,
   "id": "e0a3b659",
   "metadata": {},
   "outputs": [
    {
     "name": "stdout",
     "output_type": "stream",
     "text": [
      "0.19568296915377603\n",
      "0.19568296915377603\n"
     ]
    }
   ],
   "source": [
    "left = norm(loc = 67 , scale = 3.5).cdf(70)\n",
    "ans = 1-left \n",
    "print(ans)\n",
    "\n",
    "print(1-st.norm.cdf(z)) #another method using z score calculated"
   ]
  },
  {
   "cell_type": "code",
   "execution_count": 22,
   "id": "8f1486e4",
   "metadata": {},
   "outputs": [],
   "source": [
    "#Interpretation: \n",
    "#19.57% of the cars will violate the speed limit of 70 miles per hour "
   ]
  },
  {
   "cell_type": "markdown",
   "id": "59d3e519",
   "metadata": {},
   "source": [
    "# Ex: Shoppers\n",
    "\n",
    "A survey indicates that for each trip to the supermarket, a shopper spends an average of 45 minutes with a standard deviation of 12 minutes in the store. The lengths of time spent in the store are normally distributed and are represented by the variable x. A shopper enters the store. (a) Find the probability that the shopper will be in the store for each interval of time listed below. (b) Interpret your answer if 200 shoppers enter the store. How many shoppers would you expect to be in the store for each interval of time listed below?\n",
    "\n",
    "* Between 24 and 54 minutes (ans =  0.7333)\n",
    "* More than 39 minutes (ans = 0.6915)"
   ]
  },
  {
   "cell_type": "code",
   "execution_count": 26,
   "id": "b9698682",
   "metadata": {
    "scrolled": true
   },
   "outputs": [
    {
     "name": "stdout",
     "output_type": "stream",
     "text": [
      "-1.75\n",
      "0.75\n"
     ]
    }
   ],
   "source": [
    "## Your code here\n",
    "\n",
    "#Method 1 - Calculating Z scores\n",
    "mu = 45\n",
    "sd = 12\n",
    "t1 = 24\n",
    "t2 = 54\n",
    "\n",
    "z1=(t1-mu)/sd\n",
    "z2=(t2-mu)/sd\n",
    "\n",
    "print(z1)\n",
    "print(z2)"
   ]
  },
  {
   "cell_type": "code",
   "execution_count": 31,
   "id": "32cfcc52",
   "metadata": {},
   "outputs": [
    {
     "data": {
      "text/plain": [
       "0.7333134907593146"
      ]
     },
     "execution_count": 31,
     "metadata": {},
     "output_type": "execute_result"
    }
   ],
   "source": [
    "st.norm.cdf(0.75) - st.norm.cdf(-1.75)"
   ]
  },
  {
   "cell_type": "code",
   "execution_count": 23,
   "id": "0e4c000f",
   "metadata": {},
   "outputs": [],
   "source": [
    "# Method 2 - by using normal distribution with shifted mean and standard deviation\n",
    "# shopper_dist = norm(loc = 45 , scale = 12)\n",
    "# shopper_dist.cdf(54)-shopper_dist.cdf(24)"
   ]
  },
  {
   "cell_type": "code",
   "execution_count": 24,
   "id": "4d7a1775",
   "metadata": {},
   "outputs": [
    {
     "name": "stdout",
     "output_type": "stream",
     "text": [
      "-8.0\n"
     ]
    }
   ],
   "source": [
    "t3 = 39\n",
    "z3 = (t3-mu)/sd\n",
    "print(z3)"
   ]
  },
  {
   "cell_type": "code",
   "execution_count": 25,
   "id": "4d284a03",
   "metadata": {},
   "outputs": [
    {
     "data": {
      "text/plain": [
       "0.6914624612740131"
      ]
     },
     "execution_count": 25,
     "metadata": {},
     "output_type": "execute_result"
    }
   ],
   "source": [
    "1 - st.norm.cdf(-0.5)"
   ]
  },
  {
   "cell_type": "code",
   "execution_count": 26,
   "id": "1cd255fa",
   "metadata": {},
   "outputs": [],
   "source": [
    "#Interpretation:\n",
    "#When 200 shoppers enter the store, 73.33% of them, i.e., 147 shoppers will be in the store between 24 and 54 minutes.\n",
    "#Therefore, 69.14% or around 138 shoppers will be in the store more than 39 minutes in the shop."
   ]
  }
 ],
 "metadata": {
  "kernelspec": {
   "display_name": "Python 3 (ipykernel)",
   "language": "python",
   "name": "python3"
  },
  "language_info": {
   "codemirror_mode": {
    "name": "ipython",
    "version": 3
   },
   "file_extension": ".py",
   "mimetype": "text/x-python",
   "name": "python",
   "nbconvert_exporter": "python",
   "pygments_lexer": "ipython3",
   "version": "3.9.13"
  }
 },
 "nbformat": 4,
 "nbformat_minor": 5
}
